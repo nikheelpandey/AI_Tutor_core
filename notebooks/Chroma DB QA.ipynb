{
 "cells": [
  {
   "cell_type": "markdown",
   "id": "f7d7ebe5",
   "metadata": {},
   "source": [
    "## A walk though of making a course material from pdfs and semantic search techniques"
   ]
  },
  {
   "cell_type": "markdown",
   "id": "bf44125a",
   "metadata": {},
   "source": [
    "\n",
    "[![idea][1]][1]\n",
    "\n",
    "[1]: https://dylancastillo.co/content/images/2023/04/image-12.png\n",
    "\"idea\""
   ]
  },
  {
   "cell_type": "code",
   "execution_count": 43,
   "id": "079a53bb",
   "metadata": {},
   "outputs": [],
   "source": [
    "import os\n",
    "import PyPDF2\n",
    "import requests\n",
    "import tqdm\n",
    "from langchain.embeddings.openai import OpenAIEmbeddings\n",
    "from langchain.vectorstores import DeepLake\n",
    "from langchain.text_splitter import CharacterTextSplitter\n",
    "from langchain import OpenAI \n",
    "from langchain.chains import RetrievalQA\n",
    "from langchain.llms import OpenAIChat\n",
    "from langchain.document_loaders import PagedPDFSplitter, UnstructuredFileLoader\n",
    "from typing import List\n",
    "from langchain.vectorstores import Chroma\n",
    "from langchain.text_splitter import TokenTextSplitter\n",
    "from tqdm.notebook import tqdm\n",
    "from langchain import OpenAI, PromptTemplate, LLMChain\n",
    "from PyPDF2 import PdfFileReader, PdfFileWriter, PdfReader\n",
    "\n",
    "\n"
   ]
  },
  {
   "cell_type": "code",
   "execution_count": 44,
   "id": "43b2d3b6",
   "metadata": {},
   "outputs": [],
   "source": [
    "# Download a source material.\n",
    "a = \"https://static.realpython.com/python-basics-sample-chapters.pdf\"\n",
    "b = \"https://bugs.python.org/file47781/Tutorial_EDIT.pdf\"\n",
    "c =  \"https://cfm.ehu.es/ricardo/docs/python/Learning_Python.pdf\"\n",
    "urls = [a,b,c]\n",
    "doc_path = \"../documents/\""
   ]
  },
  {
   "cell_type": "code",
   "execution_count": 45,
   "id": "83b654fa",
   "metadata": {},
   "outputs": [
    {
     "data": {
      "text/plain": [
       "['python-basics-sample-chapters.pdf',\n",
       " 'python_tutorial.pdf',\n",
       " 'Learning_Python.pdf',\n",
       " 'Tutorial_EDIT.pdf',\n",
       " 'Python Programming.pdf']"
      ]
     },
     "execution_count": 45,
     "metadata": {},
     "output_type": "execute_result"
    }
   ],
   "source": [
    "os.listdir(doc_path)"
   ]
  },
  {
   "cell_type": "code",
   "execution_count": 48,
   "id": "b992df21",
   "metadata": {},
   "outputs": [
    {
     "ename": "NameError",
     "evalue": "name 's' is not defined",
     "output_type": "error",
     "traceback": [
      "\u001b[0;31m---------------------------------------------------------------------------\u001b[0m",
      "\u001b[0;31mNameError\u001b[0m                                 Traceback (most recent call last)",
      "Cell \u001b[0;32mIn[48], line 32\u001b[0m\n\u001b[1;32m     30\u001b[0m \u001b[38;5;28;01mfor\u001b[39;00m pth \u001b[38;5;129;01min\u001b[39;00m os\u001b[38;5;241m.\u001b[39mlistdir(doc_path)[:\u001b[38;5;241m1\u001b[39m]:\n\u001b[1;32m     31\u001b[0m     p \u001b[38;5;241m=\u001b[39m os\u001b[38;5;241m.\u001b[39mpath\u001b[38;5;241m.\u001b[39mjoin(doc_path, pth)\n\u001b[0;32m---> 32\u001b[0m     documents \u001b[38;5;241m=\u001b[39m \u001b[43mload_reports\u001b[49m\u001b[43m(\u001b[49m\u001b[43mp\u001b[49m\u001b[43m)\u001b[49m\n\u001b[1;32m     33\u001b[0m \u001b[38;5;66;03m#     print(type(documents[0]))\u001b[39;00m\n\u001b[1;32m     34\u001b[0m \u001b[38;5;66;03m#     print(documents)\u001b[39;00m\n\u001b[1;32m     35\u001b[0m \u001b[38;5;66;03m#     summarizer(documents)\u001b[39;00m\n\u001b[1;32m     36\u001b[0m \u001b[38;5;66;03m#     docs.extend(documents)\u001b[39;00m\n",
      "Cell \u001b[0;32mIn[48], line 21\u001b[0m, in \u001b[0;36mload_reports\u001b[0;34m(path)\u001b[0m\n\u001b[1;32m     14\u001b[0m     local_pages \u001b[38;5;241m=\u001b[39m loader\u001b[38;5;241m.\u001b[39mload_and_split()\n\u001b[1;32m     16\u001b[0m \u001b[38;5;66;03m#     pages.extend(local_pages)\u001b[39;00m\n\u001b[1;32m     17\u001b[0m     \n\u001b[1;32m     18\u001b[0m \u001b[38;5;66;03m#     for p in pages:\u001b[39;00m\n\u001b[1;32m     19\u001b[0m \u001b[38;5;66;03m#         text = str(p.page_content)\u001b[39;00m\n\u001b[1;32m     20\u001b[0m \u001b[38;5;66;03m#         s = chain.run(Document(page_content=text))\u001b[39;00m\n\u001b[0;32m---> 21\u001b[0m     \u001b[38;5;28mprint\u001b[39m(\u001b[43ms\u001b[49m)\n\u001b[1;32m     23\u001b[0m     \u001b[38;5;28;01mreturn\u001b[39;00m \u001b[38;5;28;01mNone\u001b[39;00m\n",
      "\u001b[0;31mNameError\u001b[0m: name 's' is not defined"
     ]
    }
   ],
   "source": [
    "from langchain.chains.summarize import load_summarize_chain\n",
    "from langchain.docstore.document import Document\n",
    "\n",
    "llm=OpenAI()\n",
    "\n",
    "# chain = load_summarize_chain(llm, chain_type=\"stuff\")\n",
    "\n",
    "def load_reports(path):\n",
    "    \n",
    "#     loader_book = PdfReader(path)\n",
    "    \n",
    "\n",
    "    loader = PagedPDFSplitter(path)\n",
    "    local_pages = loader.load_and_split()\n",
    "    print\n",
    "    \n",
    "#     pages.extend(local_pages)\n",
    "    \n",
    "#     for p in pages:\n",
    "#         text = str(p.page_content)\n",
    "#         s = chain.run(Document(page_content=text))\n",
    "    print(s)\n",
    "    \n",
    "    return None\n",
    "\n",
    "\n",
    "embeddings = OpenAIEmbeddings()\n",
    "text_splitter = TokenTextSplitter(chunk_size=10000, chunk_overlap=2000)\n",
    "docs = []\n",
    "\n",
    "for pth in os.listdir(doc_path)[:1]:\n",
    "    p = os.path.join(doc_path, pth)\n",
    "    documents = load_reports(p)\n",
    "#     print(type(documents[0]))\n",
    "#     print(documents)\n",
    "#     summarizer(documents)\n",
    "#     docs.extend(documents)\n",
    "\n"
   ]
  },
  {
   "cell_type": "code",
   "execution_count": null,
   "id": "479b0bec",
   "metadata": {},
   "outputs": [],
   "source": [
    "# pip install pypdf"
   ]
  },
  {
   "cell_type": "code",
   "execution_count": 8,
   "id": "63f09d96",
   "metadata": {},
   "outputs": [],
   "source": [
    "db = Chroma.from_documents(docs, embeddings)"
   ]
  },
  {
   "cell_type": "code",
   "execution_count": 9,
   "id": "d9403535",
   "metadata": {
    "scrolled": false
   },
   "outputs": [
    {
     "name": "stdout",
     "output_type": "stream",
     "text": [
      "iv\n",
      "PART IX\n",
      "Appendixes\n",
      "PART I\n",
      "Getting Started\n"
     ]
    }
   ],
   "source": [
    "query = 'Contents'\n",
    "\n",
    "docs = db.similarity_search(query,k=3)\n",
    "for i in docs:\n",
    "    print(i.page_content)"
   ]
  },
  {
   "cell_type": "code",
   "execution_count": 17,
   "id": "aecc3522",
   "metadata": {},
   "outputs": [],
   "source": [
    "retriver = db.as_retriever(k=3)"
   ]
  },
  {
   "cell_type": "code",
   "execution_count": 18,
   "id": "1da6653d",
   "metadata": {},
   "outputs": [
    {
     "data": {
      "text/plain": [
       "' No, you cannot multiply two lists. However, you can use the repetition operator (*) to repeat the elements of a list multiple times in a new list. For example, [1, 2, 3] * 3 will create a new list of nine elements (1, 2, 3, 1, 2, 3, 1, 2, 3).'"
      ]
     },
     "execution_count": 18,
     "metadata": {},
     "output_type": "execute_result"
    }
   ],
   "source": [
    "from langchain.chains import RetrievalQA\n",
    "chain = load_summarize_chain(llm, chain_type=\"map_reduce\")\n",
    "chain.run(docs)\n",
    "# qa = RetrievalQA.from_chain_type(llm=OpenAI(), chain_type=\"stuff\", retriever=retriver)\n",
    "\n",
    "# qa.run('Can I multiply two list? Provide the example.')"
   ]
  },
  {
   "cell_type": "code",
   "execution_count": null,
   "id": "007d0e79",
   "metadata": {},
   "outputs": [],
   "source": []
  },
  {
   "cell_type": "code",
   "execution_count": null,
   "id": "aedb262e",
   "metadata": {},
   "outputs": [],
   "source": []
  },
  {
   "cell_type": "code",
   "execution_count": null,
   "id": "ecc96453",
   "metadata": {},
   "outputs": [],
   "source": []
  },
  {
   "cell_type": "code",
   "execution_count": null,
   "id": "295c72b7",
   "metadata": {},
   "outputs": [],
   "source": []
  },
  {
   "cell_type": "code",
   "execution_count": null,
   "id": "f7310d46",
   "metadata": {},
   "outputs": [],
   "source": []
  },
  {
   "cell_type": "code",
   "execution_count": null,
   "id": "2ccde691",
   "metadata": {},
   "outputs": [],
   "source": []
  }
 ],
 "metadata": {
  "kernelspec": {
   "display_name": "Python 3 (ipykernel)",
   "language": "python",
   "name": "python3"
  },
  "language_info": {
   "codemirror_mode": {
    "name": "ipython",
    "version": 3
   },
   "file_extension": ".py",
   "mimetype": "text/x-python",
   "name": "python",
   "nbconvert_exporter": "python",
   "pygments_lexer": "ipython3",
   "version": "3.10.6"
  }
 },
 "nbformat": 4,
 "nbformat_minor": 5
}

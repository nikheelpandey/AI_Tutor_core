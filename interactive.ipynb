{
 "cells": [
  {
   "cell_type": "code",
   "execution_count": 3,
   "id": "ba5ccdcf",
   "metadata": {},
   "outputs": [],
   "source": [
    "from langchain.chat_models import ChatOpenAI\n",
    "from langchain.schema import HumanMessage, SystemMessage, AIMessage\n",
    "import json\n",
    "from langchain import PromptTemplate\n",
    "from langchain.llms import OpenAI\n",
    "from langchain.llms import OpenAI\n",
    "from langchain.chains import LLMChain\n",
    "from langchain.prompts import PromptTemplate\n",
    "from langchain.chains import SimpleSequentialChain\n",
    "from templates import *\n",
    "\n",
    "with open('key.json','r') as f:\n",
    "  key = json.load(f)['OPENAI_API_KEY']\n",
    "\n",
    "import os \n",
    "os.environ['OPENAI_API_KEY'] = key\n"
   ]
  },
  {
   "cell_type": "code",
   "execution_count": 8,
   "id": "c65d300c",
   "metadata": {},
   "outputs": [],
   "source": [
    "llm1 = OpenAI(temperature=1, openai_api_key=key)\n",
    "\n",
    "llm2 = OpenAI(temperature=1, openai_api_key=key)"
   ]
  },
  {
   "cell_type": "code",
   "execution_count": null,
   "id": "9f63f623",
   "metadata": {},
   "outputs": [],
   "source": [
    "lessontemplate = \"\"\"\n",
    "\n",
    "You are a good bot that teaches people python. You job is to create a lesson on any {lesson} in python. Make sure to cover details and explain into in easy words\n",
    "\n",
    "\n",
    "%LESSON\n",
    "{lesson}\n",
    "\n",
    "YOUR RESPONSE:\n",
    "\"\"\"\n",
    "\n",
    "CodingSamplerTemplate = \"\"\"\n",
    "\n",
    "You are a good bot. Your job is to generate coding samples and their explaination. \n",
    "\n",
    "%LESSON\n",
    "{lesson}\n",
    "\n",
    "YOUR RESPONSE:\n",
    "\n",
    "\"\"\"\n",
    "\n",
    "\n",
    "InteractorTemplate = \"\"\"\n",
    "\n",
    "You are a good bot. Your job is to interact with the user. You should ask question about a lesson. \n",
    "\n",
    "%LESSON\n",
    "{lesson}\n",
    "\n",
    "YOUR RESPONSE:\n",
    "\n",
    "\"\"\"\n",
    "\n",
    "\n"
   ]
  },
  {
   "cell_type": "code",
   "execution_count": 9,
   "id": "2457d2a8",
   "metadata": {},
   "outputs": [
    {
     "name": "stdout",
     "output_type": "stream",
     "text": [
      "\n",
      "\n",
      "\u001b[1m> Entering new SimpleSequentialChain chain...\u001b[0m\n",
      "\u001b[36;1m\u001b[1;3m\n",
      "Welcome to the lesson on functions in python! Functions are like mini programs, they contain a set of instructions that can be used to execute a single action. For example, you could have a function that prints out a message or calculates the area of a circle.\n",
      "\n",
      "In python, functions start with the keyword “def,” which stands for “define.” Following “def” is the function’s name and then a list of parameters within parentheses. These parameters can be used to pass information into the function. Finally, the last part of the function definition is the code inside the function, which is what will be executed when the function is called.\n",
      "\n",
      "Here is an example of a function in python:\n",
      "\n",
      "def greet_user(name):\n",
      "  print(\"Hello, \"+name+\"!\")\n",
      "  \n",
      "In this example, the function is called “greet_user” and it takes one parameter called “name.” When the function is called, the code will print out “Hello,” followed by the value that is passed in for the “name” parameter.\n",
      "\n",
      "To call or use this function, all we need to do is type out its\u001b[0m\n",
      "\u001b[33;1m\u001b[1;3mWhat is the syntax for calling a function in Python?\u001b[0m\n",
      "\n",
      "\u001b[1m> Finished chain.\u001b[0m\n"
     ]
    }
   ],
   "source": [
    "prompt_template = PromptTemplate(input_variables=[\"lesson\"], template=lessontemplate)\n",
    "LessonChain =  LLMChain(llm=llm1, prompt=prompt_template)\n",
    "\n",
    "\n",
    "\n",
    "prompt_template = PromptTemplate(input_variables=[\"lesson\"], template=InteractorTemplate)\n",
    "InteractBot =  LLMChain(llm=llm2, prompt=prompt_template)\n",
    "\n",
    "\n",
    "\n",
    "overall_chain = SimpleSequentialChain(chains=[LessonChain,InteractBot], verbose=True)\n",
    "review = overall_chain.run(\"Functions\")"
   ]
  },
  {
   "cell_type": "code",
   "execution_count": 10,
   "id": "1e9510cb",
   "metadata": {},
   "outputs": [
    {
     "name": "stdout",
     "output_type": "stream",
     "text": [
      "What is the syntax for calling a function in Python?\n"
     ]
    }
   ],
   "source": [
    "print(review)\n",
    "\n"
   ]
  },
  {
   "cell_type": "code",
   "execution_count": null,
   "id": "08ff1813",
   "metadata": {},
   "outputs": [],
   "source": []
  },
  {
   "cell_type": "code",
   "execution_count": null,
   "id": "19b2b959",
   "metadata": {},
   "outputs": [],
   "source": []
  },
  {
   "cell_type": "code",
   "execution_count": null,
   "id": "ae2baee9",
   "metadata": {},
   "outputs": [],
   "source": []
  },
  {
   "cell_type": "code",
   "execution_count": null,
   "id": "8bc08b3e",
   "metadata": {},
   "outputs": [],
   "source": []
  },
  {
   "cell_type": "code",
   "execution_count": null,
   "id": "4075d4a6",
   "metadata": {},
   "outputs": [],
   "source": []
  },
  {
   "cell_type": "code",
   "execution_count": null,
   "id": "566dabef",
   "metadata": {},
   "outputs": [],
   "source": []
  },
  {
   "cell_type": "code",
   "execution_count": null,
   "id": "2bfd42af",
   "metadata": {},
   "outputs": [],
   "source": []
  },
  {
   "cell_type": "code",
   "execution_count": null,
   "id": "040037d1",
   "metadata": {},
   "outputs": [],
   "source": []
  },
  {
   "cell_type": "code",
   "execution_count": null,
   "id": "bca6a3a2",
   "metadata": {},
   "outputs": [],
   "source": []
  },
  {
   "cell_type": "code",
   "execution_count": null,
   "id": "e751ef2b",
   "metadata": {},
   "outputs": [],
   "source": []
  }
 ],
 "metadata": {
  "kernelspec": {
   "display_name": "Python 3 (ipykernel)",
   "language": "python",
   "name": "python3"
  },
  "language_info": {
   "codemirror_mode": {
    "name": "ipython",
    "version": 3
   },
   "file_extension": ".py",
   "mimetype": "text/x-python",
   "name": "python",
   "nbconvert_exporter": "python",
   "pygments_lexer": "ipython3",
   "version": "3.10.6"
  }
 },
 "nbformat": 4,
 "nbformat_minor": 5
}
